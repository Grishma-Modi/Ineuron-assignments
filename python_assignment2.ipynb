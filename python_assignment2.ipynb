{
 "cells": [
  {
   "cell_type": "code",
   "execution_count": 10,
   "metadata": {},
   "outputs": [
    {
     "name": "stdout",
     "output_type": "stream",
     "text": [
      "*\r\n",
      "**\r\n",
      "***\r\n",
      "****\r\n",
      "*****\r\n",
      "****\r\n",
      "***\r\n",
      "**\r\n",
      "*\r\n",
      "\r\n"
     ]
    }
   ],
   "source": [
    "# 1. create pattern using nested for loop\n",
    "rows = 5\n",
    "for i in range(0,rows):\n",
    "    for j in range(0,i+1):\n",
    "        print(\"*\",end='')\n",
    "    print(\"\\r\")\n",
    "for i in range(rows,0,-1):\n",
    "    for j in range(0,i-1):\n",
    "        print(\"*\",end='')\n",
    "    print(\"\\r\")\n"
   ]
  },
  {
   "cell_type": "code",
   "execution_count": 11,
   "metadata": {},
   "outputs": [
    {
     "name": "stdout",
     "output_type": "stream",
     "text": [
      "The original string  is : inueron\n",
      "The reversed string is : noreuni\n"
     ]
    }
   ],
   "source": [
    "# 2. Write a Python program that accepts a word from the user and reverse it. input word: ineuron\n",
    "\n",
    "def reverse_str(s):\n",
    "    s = s[::-1]\n",
    "    return s\n",
    "\n",
    "str = \"inueron\"\n",
    "print (\"The original string  is : \",end=\"\") \n",
    "print (str) \n",
    "  \n",
    "print (\"The reversed string is : \",end=\"\") \n",
    "print (reverse_str(str)) "
   ]
  },
  {
   "cell_type": "code",
   "execution_count": null,
   "metadata": {},
   "outputs": [],
   "source": []
  },
  {
   "cell_type": "code",
   "execution_count": null,
   "metadata": {},
   "outputs": [],
   "source": []
  }
 ],
 "metadata": {
  "kernelspec": {
   "display_name": "Python 3",
   "language": "python",
   "name": "python3"
  },
  "language_info": {
   "codemirror_mode": {
    "name": "ipython",
    "version": 3
   },
   "file_extension": ".py",
   "mimetype": "text/x-python",
   "name": "python",
   "nbconvert_exporter": "python",
   "pygments_lexer": "ipython3",
   "version": "3.8.3"
  }
 },
 "nbformat": 4,
 "nbformat_minor": 4
}
